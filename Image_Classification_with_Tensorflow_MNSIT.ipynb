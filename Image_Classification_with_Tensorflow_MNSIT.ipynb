{
  "nbformat": 4,
  "nbformat_minor": 0,
  "metadata": {
    "colab": {
      "name": "Image Classification with Tensorflow- MNSIT.ipynb",
      "provenance": [],
      "collapsed_sections": [],
      "authorship_tag": "ABX9TyNeWsliKIxMulBDCVZiFkB6",
      "include_colab_link": true
    },
    "kernelspec": {
      "name": "python3",
      "display_name": "Python 3"
    }
  },
  "cells": [
    {
      "cell_type": "markdown",
      "metadata": {
        "id": "view-in-github",
        "colab_type": "text"
      },
      "source": [
        "<a href=\"https://colab.research.google.com/github/anmolrpant/Image-Classififcation-with-Tensorflow---MNSIT/blob/main/Image_Classification_with_Tensorflow_MNSIT.ipynb\" target=\"_parent\"><img src=\"https://colab.research.google.com/assets/colab-badge.svg\" alt=\"Open In Colab\"/></a>"
      ]
    },
    {
      "cell_type": "markdown",
      "metadata": {
        "id": "FChLttY9lCCo"
      },
      "source": [
        "# **Importing Libraries in Python**"
      ]
    },
    {
      "cell_type": "code",
      "metadata": {
        "id": "IDhFv3SVlOcC"
      },
      "source": [
        "import tensorflow as tf\r\n",
        "import pandas as pd\r\n",
        "import numpy as np\r\n",
        "import matplotlib.pyplot as plt\r\n",
        "import matplotlib\r\n",
        "%matplotlib inline"
      ],
      "execution_count": 62,
      "outputs": []
    },
    {
      "cell_type": "markdown",
      "metadata": {
        "id": "ZViOS3molUKf"
      },
      "source": [
        "###**Importing Tensorflow MNIST dataset**"
      ]
    },
    {
      "cell_type": "code",
      "metadata": {
        "id": "HqCBnGk6lc9l"
      },
      "source": [
        "mnist = tf.keras.datasets.mnist"
      ],
      "execution_count": 63,
      "outputs": []
    },
    {
      "cell_type": "markdown",
      "metadata": {
        "id": "cngX2ZmkljE9"
      },
      "source": [
        "###**Loading images**"
      ]
    },
    {
      "cell_type": "code",
      "metadata": {
        "id": "VL6e2mW8loH6"
      },
      "source": [
        "(images_train,labels_train),(images_test,labels_test)=mnist.load_data()"
      ],
      "execution_count": 65,
      "outputs": []
    },
    {
      "cell_type": "markdown",
      "metadata": {
        "id": "n3YywkIQl08m"
      },
      "source": [
        "####**Normalization of data**"
      ]
    },
    {
      "cell_type": "code",
      "metadata": {
        "id": "nb95EJpFmA9J"
      },
      "source": [
        "images_train,images_test = images_train/255.0, images_test/255.0"
      ],
      "execution_count": 69,
      "outputs": []
    },
    {
      "cell_type": "markdown",
      "metadata": {
        "id": "aUMh8IkXmPym"
      },
      "source": [
        "###**Text for each lables**"
      ]
    },
    {
      "cell_type": "code",
      "metadata": {
        "id": "Y8OO8cIamUHR"
      },
      "source": [
        "im_textlabel = []\r\n",
        "for i in range(10):\r\n",
        "  im_textlabel.append(str(i))"
      ],
      "execution_count": 70,
      "outputs": []
    },
    {
      "cell_type": "markdown",
      "metadata": {
        "id": "kJMCs5-8nCOi"
      },
      "source": [
        "###**Size of images**"
      ]
    },
    {
      "cell_type": "code",
      "metadata": {
        "id": "lWG-T_zqnGFU"
      },
      "source": [
        "im_sz = images_train.shape[1]"
      ],
      "execution_count": 71,
      "outputs": []
    },
    {
      "cell_type": "markdown",
      "metadata": {
        "id": "74x1RfJ-n1kO"
      },
      "source": [
        "###**Reshaping the data to be used in the input model**"
      ]
    },
    {
      "cell_type": "code",
      "metadata": {
        "id": "buazB5NMn8zC"
      },
      "source": [
        "images_train = images_train.reshape(images_train.shape[0],im_sz,im_sz,1)\r\n",
        "images_test = images_test.reshape(images_test.shape[0],im_sz,im_sz,1)"
      ],
      "execution_count": 72,
      "outputs": []
    },
    {
      "cell_type": "markdown",
      "metadata": {
        "id": "6oEvdF6boT0i"
      },
      "source": [
        "###**Visualizing the training data**"
      ]
    },
    {
      "cell_type": "code",
      "metadata": {
        "colab": {
          "base_uri": "https://localhost:8080/",
          "height": 282
        },
        "id": "_EZrQ5zCoT_u",
        "outputId": "191a9cb8-6988-4c08-8b96-bca1849e1117"
      },
      "source": [
        "# Taking a look at some of the data\r\n",
        "labels_train[11]\r\n",
        "\r\n",
        "# Specifying the index for which we will show the image and label\r\n",
        "image_id = 25\r\n",
        "\r\n",
        "# Extracting the specific image\r\n",
        "im = images_train[image_id].reshape(im_sz,im_sz)\r\n",
        "\r\n",
        "# Plotting the selected label and the corresponding image\r\n",
        "print('Label: ',im_textlabel[labels_train[image_id]])\r\n",
        "plt.imshow(im,cmap='Blues')\r\n",
        "plt.show()"
      ],
      "execution_count": 73,
      "outputs": [
        {
          "output_type": "stream",
          "text": [
            "Label:  2\n"
          ],
          "name": "stdout"
        },
        {
          "output_type": "display_data",
          "data": {
            "image/png": "[encoded data removed]",
            "text/plain": [
              "<Figure size 432x288 with 1 Axes>"
            ]
          },
          "metadata": {
            "tags": [],
            "needs_background": "light"
          }
        }
      ]
    },
    {
      "cell_type": "markdown",
      "metadata": {
        "id": "NGhWs0sF8dLj"
      },
      "source": [
        "\r\n",
        "##**Training the Convolutional Neural Network (CNN) Model**"
      ]
    },
    {
      "cell_type": "code",
      "metadata": {
        "colab": {
          "base_uri": "https://localhost:8080/"
        },
        "id": "qzWKcJ1Q8i7A",
        "outputId": "1529f860-f7af-4b53-d5b1-8f9473ccbdba"
      },
      "source": [
        "#Specifying the model\r\n",
        "model = tf.keras.models.Sequential([\r\n",
        "        tf.keras.layers.Conv2D(16,(3,3),activation=\"relu\",input_shape=(im_sz,im_sz,1)),\r\n",
        "        tf.keras.layers.MaxPooling2D((2,2)),\r\n",
        "        tf.keras.layers.Conv2D(32,(3,3),activation=\"relu\"),\r\n",
        "        tf.keras.layers.Flatten(),\r\n",
        "        tf.keras.layers.Dense(16,activation=\"relu\"),\r\n",
        "        tf.keras.layers.Dense(10)\r\n",
        "])\r\n",
        "\r\n",
        "#Specifying a loss function and compiling the model with optimzation criteria\r\n",
        "loss_fn = tf.keras.losses.SparseCategoricalCrossentropy(from_logits=True)\r\n",
        "model.compile(optimizer=\"adam\",loss=loss_fn,metrics= [\"accuracy\"])\r\n",
        "model.summary()"
      ],
      "execution_count": 74,
      "outputs": [
        {
          "output_type": "stream",
          "text": [
            "Model: \"sequential_5\"\n",
            "_________________________________________________________________\n",
            "Layer (type)                 Output Shape              Param #   \n",
            "=================================================================\n",
            "conv2d_10 (Conv2D)           (None, 26, 26, 16)        160       \n",
            "_________________________________________________________________\n",
            "max_pooling2d_5 (MaxPooling2 (None, 13, 13, 16)        0         \n",
            "_________________________________________________________________\n",
            "conv2d_11 (Conv2D)           (None, 11, 11, 32)        4640      \n",
            "_________________________________________________________________\n",
            "flatten_5 (Flatten)          (None, 3872)              0         \n",
            "_________________________________________________________________\n",
            "dense_10 (Dense)             (None, 16)                61968     \n",
            "_________________________________________________________________\n",
            "dense_11 (Dense)             (None, 10)                170       \n",
            "=================================================================\n",
            "Total params: 66,938\n",
            "Trainable params: 66,938\n",
            "Non-trainable params: 0\n",
            "_________________________________________________________________\n"
          ],
          "name": "stdout"
        }
      ]
    },
    {
      "cell_type": "markdown",
      "metadata": {
        "id": "yQIhDJ9I-Keb"
      },
      "source": [
        "###**Fitting the model**"
      ]
    },
    {
      "cell_type": "code",
      "metadata": {
        "colab": {
          "base_uri": "https://localhost:8080/"
        },
        "id": "TmFm8dT3-Rb_",
        "outputId": "8761e78e-93b1-483b-e276-55969b12b610"
      },
      "source": [
        "model.fit(images_train,labels_train,epochs=2)"
      ],
      "execution_count": 77,
      "outputs": [
        {
          "output_type": "stream",
          "text": [
            "Epoch 1/2\n",
            "1875/1875 [==============================] - 27s 14ms/step - loss: 0.3713 - accuracy: 0.8901\n",
            "Epoch 2/2\n",
            "1875/1875 [==============================] - 27s 15ms/step - loss: 0.2837 - accuracy: 0.9184\n"
          ],
          "name": "stdout"
        },
        {
          "output_type": "execute_result",
          "data": {
            "text/plain": [
              "<tensorflow.python.keras.callbacks.History at 0x7f61908357f0>"
            ]
          },
          "metadata": {
            "tags": []
          },
          "execution_count": 77
        }
      ]
    },
    {
      "cell_type": "markdown",
      "metadata": {
        "id": "WeNDgbbf-Roi"
      },
      "source": [
        "###**Evaluating the model**"
      ]
    },
    {
      "cell_type": "code",
      "metadata": {
        "colab": {
          "base_uri": "https://localhost:8080/"
        },
        "id": "gpOl5dUM-VAA",
        "outputId": "6e98683b-20ff-493e-8e8c-43847dd76123"
      },
      "source": [
        "#Evaluating the model\r\n",
        "model.evaluate(images_test,labels_test,verbose=2)"
      ],
      "execution_count": 78,
      "outputs": [
        {
          "output_type": "stream",
          "text": [
            "313/313 - 2s - loss: 0.2360 - accuracy: 0.9307\n"
          ],
          "name": "stdout"
        },
        {
          "output_type": "execute_result",
          "data": {
            "text/plain": [
              "[0.23601965606212616, 0.9307000041007996]"
            ]
          },
          "metadata": {
            "tags": []
          },
          "execution_count": 78
        }
      ]
    },
    {
      "cell_type": "markdown",
      "metadata": {
        "id": "Qlsok_v8SFL9"
      },
      "source": [
        "##**Predicting the Model**"
      ]
    },
    {
      "cell_type": "code",
      "metadata": {
        "colab": {
          "base_uri": "https://localhost:8080/",
          "height": 630
        },
        "id": "azoKawYqSJE8",
        "outputId": "73b23526-d2ee-47c3-dbd3-8b6fff303a73"
      },
      "source": [
        "# Specifying the image for which we will get the prediction\r\n",
        "image_id = 35\r\n",
        "\r\n",
        "# Extracting the specific image\r\n",
        "im = images_test[image_id].reshape(1,im_sz,im_sz,1)\r\n",
        "\r\n",
        "# Obtaining the prediction\r\n",
        "pred = model(im)\r\n",
        "pred = pred[0]\r\n",
        "\r\n",
        "# Plotting the results of the prediction\r\n",
        "print(pred)\r\n",
        "plt.bar(range(len(pred)),pred)\r\n",
        "plt.xticks(range(len(pred)))\r\n",
        "plt.show()\r\n",
        "\r\n",
        "# Plotting the selected label and the corresponding image\r\n",
        "print('\\nCorrect Label: ',im_textlabel[labels_test[image_id]])\r\n",
        "print('\\nLabel Predicted: ',im_textlabel[np.argmax(pred)])\r\n",
        "plt.imshow(im.reshape(im_sz,im_sz),cmap='gray')\r\n",
        "plt.show()\r\n"
      ],
      "execution_count": 90,
      "outputs": [
        {
          "output_type": "stream",
          "text": [
            "tf.Tensor(\n",
            "[-0.80304164 -4.1568356  11.126629    5.139178   -7.175124   -1.0721608\n",
            "  1.2052797  -2.9855804   2.0271382  -3.877343  ], shape=(10,), dtype=float32)\n"
          ],
          "name": "stdout"
        },
        {
          "output_type": "display_data",
          "data": {
            "image/png": "[encoded data removed]",
            "text/plain": [
              "<Figure size 432x288 with 1 Axes>"
            ]
          },
          "metadata": {
            "tags": [],
            "needs_background": "light"
          }
        },
        {
          "output_type": "stream",
          "text": [
            "\n",
            "Correct Label:  2\n",
            "\n",
            "Label Predicted:  2\n"
          ],
          "name": "stdout"
        },
        {
          "output_type": "display_data",
          "data": {
            "image/png": "[encoded data removed]",
            "text/plain": [
              "<Figure size 432x288 with 1 Axes>"
            ]
          },
          "metadata": {
            "tags": [],
            "needs_background": "light"
          }
        }
      ]
    }
  ]
}